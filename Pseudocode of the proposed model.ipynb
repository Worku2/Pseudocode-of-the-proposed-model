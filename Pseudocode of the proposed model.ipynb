{
 "cells": [
  {
   "cell_type": "code",
   "execution_count": null,
   "metadata": {},
   "outputs": [],
   "source": [
    "#Algorithm 1. Stacked GRU Flight Fare Prediction Model.\n",
    "#Step 1: Define the StackedGRU class\n",
    "class StackedGRU(nn.Module):\n",
    "    #Step 2: Define the constructor to initialize the model parameters\n",
    "    def __init__(self, input_size, hidden_size, output_size, num_layers, dropout, window_size=1):\n",
    "        super(StackedGRU, self).__init__()\n",
    "        #Step 3: Set the model parameters\n",
    "        self.input_size = input_size   # Size of input layer\n",
    "        self.hidden_size = hidden_size # Size of hidden layers\n",
    "        self.output_size = output_size # Size of output layer\n",
    "        self.num_layers = num_layers   # Number of layers in the stacked GRU model\n",
    "        self.dropout = dropout # Dropout probability\n",
    "        self.window_size = window_size # Number of time steps to include in each window        \n",
    "        #Step 4: Create a list of GRU layers\n",
    "        self.gru_layers = nn.ModuleList()    \n",
    "        #Step 5: Add the first GRU layer\n",
    "        self.gru_layers.append(nn.GRU(input_size, hidden_size, batch_first=True, dropout=dropout))  \n",
    "        #Step 6: Add additional GRU layers if num_layers > 1\n",
    "        for i in range(num_layers-1):\n",
    "            self.gru_layers.append(nn.GRU(hidden_size, hidden_size, batch_first=True, dropout=dropout))      \n",
    "        #Step 7: Create the output layer\n",
    "        self.linear = nn.Linear(hidden_size * window_size, output_size)  \n",
    "    #Step 8: Define the forward pass through the stacked GRU model\n",
    "    def forward(self, x):\n",
    "        #Step 9: Reshape the input into windows of size self.window_size\n",
    "        x = x.view(x.shape[0], -1, self.window_size, self.input_size)     \n",
    "        #Step 10: Transpose the input to (batch_size, window_size, sequence_length, input_size)\n",
    "        x = x.transpose(1, 2)        \n",
    "        #Step 11: Flatten the input to (batch_size * window_size, sequence_length, input_size)\n",
    "        x = x.contiguous().view(-1, x.shape[3], x.shape[2])       \n",
    "        #Step 12: Pass the input through each GRU layer in the stacked model\n",
    "        for i in range(self.num_layers):\n",
    "            #Step 12a: Get the current GRU layer\n",
    "            output, _ = self.gru_layers[i](x)           \n",
    "            #Step 12b: Apply dropout to the output\n",
    "            output = F.dropout(output, p=self.dropout, training=self.training)            \n",
    "            #Step 12c: Set the input for the next layer to be the output of the current layer\n",
    "            x = output        \n",
    "        #Step 13: Reshape the output to (batch_size, window_size, hidden_size * sequence_length)\n",
    "        output = output.contiguous().view(-1, self.window_size, output.shape[2] * output.shape[1])        \n",
    "        #Step 14: Flatten the output to (batch_size * window_size, hidden_size * sequence_length)\n",
    "        output = output.view(-1, output.shape[2])      \n",
    "        #Step 15: Pass the final output through the output layer\n",
    "        out = self.linear(output)      \n",
    "         #Step 16: Reshape the output to (batch_size, window_size, output_size)\n",
    "        out = out.view(-1, self.window_size, self.output_size)     "
   ]
  }
 ],
 "metadata": {
  "kernelspec": {
   "display_name": "Python 3",
   "language": "python",
   "name": "python3"
  },
  "language_info": {
   "codemirror_mode": {
    "name": "ipython",
    "version": 3
   },
   "file_extension": ".py",
   "mimetype": "text/x-python",
   "name": "python",
   "nbconvert_exporter": "python",
   "pygments_lexer": "ipython3",
   "version": "3.7.6"
  }
 },
 "nbformat": 4,
 "nbformat_minor": 4
}
